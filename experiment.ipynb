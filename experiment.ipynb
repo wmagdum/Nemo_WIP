{
 "cells": [
  {
   "cell_type": "code",
   "execution_count": 5,
   "id": "171158c4",
   "metadata": {},
   "outputs": [
    {
     "name": "stderr",
     "output_type": "stream",
     "text": [
      "d:\\local\\pac_env\\lib\\site-packages\\tqdm\\auto.py:21: TqdmWarning: IProgress not found. Please update jupyter and ipywidgets. See https://ipywidgets.readthedocs.io/en/stable/user_install.html\n",
      "  from .autonotebook import tqdm as notebook_tqdm\n",
      "\u001b[32m2025-06-25 13:04:31.553\u001b[0m | \u001b[31m\u001b[1mERROR   \u001b[0m | \u001b[36mfastembed.common.model_management\u001b[0m:\u001b[36mdownload_model\u001b[0m:\u001b[36m429\u001b[0m - \u001b[31m\u001b[1mCould not download model from HuggingFace: 401 Client Error: Unauthorized for url: https://huggingface.co/api/models/qdrant/all-MiniLM-L6-v2-onnx (Request ID: Root=1-685ba687-3670000915299a9366267e80;d6b399ee-ce38-43cb-ace2-5e2c8ae63ae0)\n",
      "\n",
      "Invalid credentials in Authorization header Falling back to other sources.\u001b[0m\n"
     ]
    }
   ],
   "source": [
    "from nemoguardrails import LLMRails, RailsConfig\n",
    "from langchain_ollama.llms import OllamaLLM\n",
    "\n",
    "# Local Ollama endpoint (no API key needed)\n",
    "OLLAMA_URL = \"http://localhost:11434\"\n",
    "\n",
    "# Initialize the local LLaMA2 model\n",
    "llm = OllamaLLM(\n",
    "    model=\"llama2:latest\",\n",
    "    base_url=OLLAMA_URL,\n",
    "    client_kwargs={},         # No headers needed for local Ollama\n",
    "    num_predict=1024,\n",
    "    keep_alive=90\n",
    ")\n",
    "\n",
    "# Initialize Rails config from the ./config folder\n",
    "config = RailsConfig.from_path(\"./config\")\n",
    "\n",
    "# Create the Guardrails app with local LLM\n",
    "rails = LLMRails(config, llm=llm)"
   ]
  },
  {
   "cell_type": "code",
   "execution_count": 6,
   "id": "427355ec",
   "metadata": {},
   "outputs": [],
   "source": [
    "import nest_asyncio\n",
    "nest_asyncio.apply()"
   ]
  },
  {
   "cell_type": "code",
   "execution_count": 58,
   "id": "8c478f7b",
   "metadata": {},
   "outputs": [
    {
     "name": "stdout",
     "output_type": "stream",
     "text": [
      "hiiiiiiiiiii 1111111111\n",
      "hiiiiiiiiiii 122222222\n",
      "response=[{'role': 'assistant', 'content': \"Action 'flow clarify_intent_if_needed' not found.\"}] llm_output=None output_data={'triggered_input_rail': 'generate_valid_python_code', 'triggered_output_rail': None} log=GenerationLog(activated_rails=[ActivatedRail(type='input', name='generate_valid_python_code', decisions=['execute flow clarify_intent_if_needed', 'stop'], executed_actions=[ExecutedAction(action_name='flow clarify_intent_if_needed', action_params={}, return_value=None, llm_calls=[], started_at=1750844526.0491772, finished_at=1750844526.0491772, duration=0.0)], stop=True, additional_info=None, started_at=1750844526.0491772, finished_at=1750844526.0491772, duration=0.0)], stats=GenerationStats(input_rails_duration=0.0019986629486083984, dialog_rails_duration=None, generation_rails_duration=None, output_rails_duration=None, total_duration=0.0019986629486083984, llm_calls_duration=0, llm_calls_count=0, llm_calls_total_prompt_tokens=0, llm_calls_total_completion_tokens=0, llm_calls_total_tokens=0), llm_calls=None, internal_events=None, colang_history=None) state=None\n"
     ]
    }
   ],
   "source": [
    "import nest_asyncio\n",
    "import asyncio\n",
    "from nemoguardrails import LLMRails, RailsConfig\n",
    "from langchain_ollama.llms import OllamaLLM\n",
    "\n",
    "nest_asyncio.apply()  # Required for running asyncio inside Jupyter\n",
    "\n",
    "# Ollama config\n",
    "OLLAMA_URL = \"http://localhost:11434\"\n",
    "\n",
    "llm = OllamaLLM(\n",
    "    model=\"llama2:latest\",\n",
    "    base_url=OLLAMA_URL,\n",
    "    client_kwargs={},\n",
    "    num_predict=1024,\n",
    "    keep_alive=90\n",
    ")\n",
    "\n",
    "print(\"hiiiiiiiiiii 1111111111\")\n",
    "config = RailsConfig.from_path(\"./config\")\n",
    "\n",
    "print(\"hiiiiiiiiiii 122222222\")\n",
    "rails = LLMRails(config, llm=llm)\n",
    "\n",
    "# Wrapper function for async call\n",
    "async def run_query():\n",
    "    options = {\n",
    "        \"output_vars\": [\"triggered_input_rail\", \"triggered_output_rail\"],\n",
    "        \"log\": {\n",
    "            \"activated_rails\": True\n",
    "        }\n",
    "    }\n",
    "    res = await rails.generate_async(messages=[{\"role\": \"user\", \"content\": \"write python\"}], options=options)\n",
    "    print(res)\n",
    "\n",
    "await run_query()\n"
   ]
  }
 ],
 "metadata": {
  "kernelspec": {
   "display_name": "Python 3",
   "language": "python",
   "name": "python3"
  },
  "language_info": {
   "codemirror_mode": {
    "name": "ipython",
    "version": 3
   },
   "file_extension": ".py",
   "mimetype": "text/x-python",
   "name": "python",
   "nbconvert_exporter": "python",
   "pygments_lexer": "ipython3",
   "version": "3.10.18"
  }
 },
 "nbformat": 4,
 "nbformat_minor": 5
}
